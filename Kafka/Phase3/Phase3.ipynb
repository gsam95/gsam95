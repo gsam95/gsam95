{
 "cells": [
  {
   "cell_type": "code",
   "execution_count": 1,
   "id": "b50d1e30-f866-4d2a-90d0-fe37773ebe06",
   "metadata": {},
   "outputs": [],
   "source": [
    "import pandas as pd\n",
    "import numpy as np\n",
    "from sklearn.model_selection import train_test_split\n",
    "from sklearn.linear_model import LinearRegression\n",
    "from sklearn.metrics import mean_absolute_error, mean_squared_error\n",
    "from math import sqrt\n",
    "import seaborn as sns\n",
    "import matplotlib.pyplot as plt\n",
    "import pickle\n",
    "from xgboost import XGBRegressor"
   ]
  },
  {
   "cell_type": "code",
   "execution_count": 2,
   "id": "b7076340-b0ae-444d-9322-90a1a9ffcb53",
   "metadata": {},
   "outputs": [
    {
     "name": "stdout",
     "output_type": "stream",
     "text": [
      "(9471, 14)\n"
     ]
    }
   ],
   "source": [
    "# Load the dataset\n",
    "file_path = \"streamed_kafka_data.csv\"  # Replace with your file path\n",
    "df = pd.read_csv(file_path)\n",
    "print(df.shape)"
   ]
  },
  {
   "cell_type": "code",
   "execution_count": 3,
   "id": "5b02a9dd-fc73-41d4-bb13-3ef9867856d2",
   "metadata": {},
   "outputs": [],
   "source": [
    "df = df.drop(columns=['NMHC(GT)'])"
   ]
  },
  {
   "cell_type": "code",
   "execution_count": 7,
   "id": "44254611-a546-441c-b554-a33636583eba",
   "metadata": {},
   "outputs": [
    {
     "name": "stderr",
     "output_type": "stream",
     "text": [
      "C:\\Users\\HP\\AppData\\Local\\Temp\\ipykernel_29884\\1456620561.py:12: FutureWarning: A value is trying to be set on a copy of a DataFrame or Series through chained assignment using an inplace method.\n",
      "The behavior will change in pandas 3.0. This inplace method will never work because the intermediate object on which we are setting values always behaves as a copy.\n",
      "\n",
      "For example, when doing 'df[col].method(value, inplace=True)', try using 'df.method({col: value}, inplace=True)' or df[col] = df[col].method(value) instead, to perform the operation inplace on the original object.\n",
      "\n",
      "\n",
      "  df[col].replace([float('inf'), float('-inf')], np.nan, inplace=True)\n",
      "C:\\Users\\HP\\AppData\\Local\\Temp\\ipykernel_29884\\1456620561.py:12: FutureWarning: A value is trying to be set on a copy of a DataFrame or Series through chained assignment using an inplace method.\n",
      "The behavior will change in pandas 3.0. This inplace method will never work because the intermediate object on which we are setting values always behaves as a copy.\n",
      "\n",
      "For example, when doing 'df[col].method(value, inplace=True)', try using 'df.method({col: value}, inplace=True)' or df[col] = df[col].method(value) instead, to perform the operation inplace on the original object.\n",
      "\n",
      "\n",
      "  df[col].replace([float('inf'), float('-inf')], np.nan, inplace=True)\n",
      "C:\\Users\\HP\\AppData\\Local\\Temp\\ipykernel_29884\\1456620561.py:12: FutureWarning: A value is trying to be set on a copy of a DataFrame or Series through chained assignment using an inplace method.\n",
      "The behavior will change in pandas 3.0. This inplace method will never work because the intermediate object on which we are setting values always behaves as a copy.\n",
      "\n",
      "For example, when doing 'df[col].method(value, inplace=True)', try using 'df.method({col: value}, inplace=True)' or df[col] = df[col].method(value) instead, to perform the operation inplace on the original object.\n",
      "\n",
      "\n",
      "  df[col].replace([float('inf'), float('-inf')], np.nan, inplace=True)\n"
     ]
    }
   ],
   "source": [
    "df.replace({'NaT': np.nan}, inplace=True)\n",
    "\n",
    "# List of numeric columns to clean\n",
    "numeric_cols = ['CO(GT)', 'NOx(GT)', 'C6H6(GT)']\n",
    "\n",
    "# Loop through each column and clean data\n",
    "for col in numeric_cols:\n",
    "    # Ensure column is float type (to handle NaN values)\n",
    "    df[col] = df[col].astype(float)\n",
    "\n",
    "    # Replace infinite values with NaN\n",
    "    df[col].replace([float('inf'), float('-inf')], np.nan, inplace=True)"
   ]
  },
  {
   "cell_type": "code",
   "execution_count": null,
   "id": "0451fcf2-b08b-4c64-b846-c78ef4419692",
   "metadata": {},
   "outputs": [],
   "source": []
  },
  {
   "cell_type": "code",
   "execution_count": null,
   "id": "82dea0fd-3f0e-4d20-8ead-eeff29a6dd50",
   "metadata": {},
   "outputs": [],
   "source": []
  },
  {
   "cell_type": "code",
   "execution_count": null,
   "id": "ca184bcd-2c7a-4747-bdf7-99eec44129d2",
   "metadata": {},
   "outputs": [],
   "source": []
  },
  {
   "cell_type": "code",
   "execution_count": 12,
   "id": "39d490bf-4912-4388-8627-a0910217dc5b",
   "metadata": {},
   "outputs": [
    {
     "data": {
      "text/plain": [
       "Index([2004.0, 2005.0, nan], dtype='float64', name='Datetime')"
      ]
     },
     "execution_count": 12,
     "metadata": {},
     "output_type": "execute_result"
    }
   ],
   "source": [
    "# Convert 'Datetime' column to datetime format and set it as the index\n",
    "df['Datetime'] = df['Datetime'].str.strip() \n",
    "df['Datetime'] = pd.to_datetime(df['Datetime'], errors='coerce')\n",
    "df.set_index('Datetime', inplace=True)\n",
    "available_years = df.index.year.unique()\n",
    "available_years"
   ]
  },
  {
   "cell_type": "code",
   "execution_count": 14,
   "id": "50992c63-b192-4f02-9e73-d5911ada61ca",
   "metadata": {},
   "outputs": [
    {
     "name": "stdout",
     "output_type": "stream",
     "text": [
      "(7674, 12)\n"
     ]
    },
    {
     "data": {
      "text/plain": [
       "Index([2004, 2005], dtype='int32', name='Datetime')"
      ]
     },
     "execution_count": 14,
     "metadata": {},
     "output_type": "execute_result"
    }
   ],
   "source": [
    "# Drop rows with missing values in the target column (e.g., 'CO(GT)')\n",
    "df = df.dropna(subset=['CO(GT)'])\n",
    "print(df.shape)\n",
    "available_years = df.index.year.unique()\n",
    "available_years"
   ]
  },
  {
   "cell_type": "code",
   "execution_count": 16,
   "id": "2cac2d6a-ee6e-4f80-a0c0-5cc54583ac5d",
   "metadata": {},
   "outputs": [],
   "source": [
    "# --- Feature Engineering ---\n",
    "\n",
    "# 1. Time-based features\n",
    "df['Hour'] = df.index.hour  # Extract hour from datetime\n",
    "df['Day'] = df.index.day    # Extract day from datetime\n",
    "df['Month'] = df.index.month  # Extract month from datetime"
   ]
  },
  {
   "cell_type": "code",
   "execution_count": 18,
   "id": "fe876d0b-2435-40f6-8f4f-73b88e2f1e93",
   "metadata": {},
   "outputs": [],
   "source": [
    "# 2. Lagged features (previous time periods)\n",
    "for lag in range(1, 4):  # Create lagged features for 1, 2, and 3 previous periods\n",
    "    df[f'CO_lag_{lag}'] = df['CO(GT)'].shift(lag)\n",
    "    df[f'NOx_lag_{lag}'] = df['NOx(GT)'].shift(lag)\n",
    "    df[f'C6H6_lag_{lag}'] = df['C6H6(GT)'].shift(lag)"
   ]
  },
  {
   "cell_type": "code",
   "execution_count": 20,
   "id": "9110fb52-0e78-4fdd-9d38-16bfad501e85",
   "metadata": {},
   "outputs": [],
   "source": [
    "# 3. Rolling statistics (averages and standard deviations)\n",
    "rolling_window = 3  # Define rolling window size (e.g., 3 periods)\n",
    "df['CO_roll_mean'] = df['CO(GT)'].rolling(window=rolling_window).mean()\n",
    "df['CO_roll_std'] = df['CO(GT)'].rolling(window=rolling_window).std()\n",
    "df['NOx_roll_mean'] = df['NOx(GT)'].rolling(window=rolling_window).mean()\n",
    "df['NOx_roll_std'] = df['NOx(GT)'].rolling(window=rolling_window).std()"
   ]
  },
  {
   "cell_type": "code",
   "execution_count": 22,
   "id": "e037b917-f402-48c2-abc5-4e578ea48f32",
   "metadata": {},
   "outputs": [
    {
     "name": "stdout",
     "output_type": "stream",
     "text": [
      "(7674, 28)\n"
     ]
    },
    {
     "data": {
      "text/plain": [
       "Index([2004, 2005], dtype='int32', name='Datetime')"
      ]
     },
     "execution_count": 22,
     "metadata": {},
     "output_type": "execute_result"
    }
   ],
   "source": [
    "# Drop rows with NaN values introduced by lagged/rolling features\n",
    "df.dropna(how='all',inplace=True)\n",
    "print(df.shape)\n",
    "available_years = df.index.year.unique()\n",
    "available_years"
   ]
  },
  {
   "cell_type": "code",
   "execution_count": 24,
   "id": "c1656f9c-de72-4ac4-9e68-fd11b50dfef5",
   "metadata": {},
   "outputs": [
    {
     "data": {
      "text/html": [
       "<div>\n",
       "<style scoped>\n",
       "    .dataframe tbody tr th:only-of-type {\n",
       "        vertical-align: middle;\n",
       "    }\n",
       "\n",
       "    .dataframe tbody tr th {\n",
       "        vertical-align: top;\n",
       "    }\n",
       "\n",
       "    .dataframe thead th {\n",
       "        text-align: right;\n",
       "    }\n",
       "</style>\n",
       "<table border=\"1\" class=\"dataframe\">\n",
       "  <thead>\n",
       "    <tr style=\"text-align: right;\">\n",
       "      <th></th>\n",
       "      <th>CO(GT)</th>\n",
       "      <th>PT08.S1(CO)</th>\n",
       "      <th>C6H6(GT)</th>\n",
       "      <th>PT08.S2(NMHC)</th>\n",
       "      <th>NOx(GT)</th>\n",
       "      <th>PT08.S3(NOx)</th>\n",
       "      <th>NO2(GT)</th>\n",
       "      <th>PT08.S4(NO2)</th>\n",
       "      <th>PT08.S5(O3)</th>\n",
       "      <th>T</th>\n",
       "      <th>...</th>\n",
       "      <th>CO_lag_2</th>\n",
       "      <th>NOx_lag_2</th>\n",
       "      <th>C6H6_lag_2</th>\n",
       "      <th>CO_lag_3</th>\n",
       "      <th>NOx_lag_3</th>\n",
       "      <th>C6H6_lag_3</th>\n",
       "      <th>CO_roll_mean</th>\n",
       "      <th>CO_roll_std</th>\n",
       "      <th>NOx_roll_mean</th>\n",
       "      <th>NOx_roll_std</th>\n",
       "    </tr>\n",
       "    <tr>\n",
       "      <th>Datetime</th>\n",
       "      <th></th>\n",
       "      <th></th>\n",
       "      <th></th>\n",
       "      <th></th>\n",
       "      <th></th>\n",
       "      <th></th>\n",
       "      <th></th>\n",
       "      <th></th>\n",
       "      <th></th>\n",
       "      <th></th>\n",
       "      <th></th>\n",
       "      <th></th>\n",
       "      <th></th>\n",
       "      <th></th>\n",
       "      <th></th>\n",
       "      <th></th>\n",
       "      <th></th>\n",
       "      <th></th>\n",
       "      <th></th>\n",
       "      <th></th>\n",
       "      <th></th>\n",
       "    </tr>\n",
       "  </thead>\n",
       "  <tbody>\n",
       "    <tr>\n",
       "      <th>2004-03-10 18:00:00</th>\n",
       "      <td>2.6</td>\n",
       "      <td>1360.0</td>\n",
       "      <td>11.9</td>\n",
       "      <td>1046.0</td>\n",
       "      <td>166.0</td>\n",
       "      <td>1056.0</td>\n",
       "      <td>113.0</td>\n",
       "      <td>1692.0</td>\n",
       "      <td>1268.0</td>\n",
       "      <td>13.6</td>\n",
       "      <td>...</td>\n",
       "      <td>NaN</td>\n",
       "      <td>NaN</td>\n",
       "      <td>NaN</td>\n",
       "      <td>NaN</td>\n",
       "      <td>NaN</td>\n",
       "      <td>NaN</td>\n",
       "      <td>NaN</td>\n",
       "      <td>NaN</td>\n",
       "      <td>NaN</td>\n",
       "      <td>NaN</td>\n",
       "    </tr>\n",
       "    <tr>\n",
       "      <th>2004-03-10 19:00:00</th>\n",
       "      <td>2.0</td>\n",
       "      <td>1292.0</td>\n",
       "      <td>9.4</td>\n",
       "      <td>955.0</td>\n",
       "      <td>103.0</td>\n",
       "      <td>1174.0</td>\n",
       "      <td>92.0</td>\n",
       "      <td>1559.0</td>\n",
       "      <td>972.0</td>\n",
       "      <td>13.3</td>\n",
       "      <td>...</td>\n",
       "      <td>NaN</td>\n",
       "      <td>NaN</td>\n",
       "      <td>NaN</td>\n",
       "      <td>NaN</td>\n",
       "      <td>NaN</td>\n",
       "      <td>NaN</td>\n",
       "      <td>NaN</td>\n",
       "      <td>NaN</td>\n",
       "      <td>NaN</td>\n",
       "      <td>NaN</td>\n",
       "    </tr>\n",
       "    <tr>\n",
       "      <th>2004-03-10 20:00:00</th>\n",
       "      <td>2.2</td>\n",
       "      <td>1402.0</td>\n",
       "      <td>9.0</td>\n",
       "      <td>939.0</td>\n",
       "      <td>131.0</td>\n",
       "      <td>1140.0</td>\n",
       "      <td>114.0</td>\n",
       "      <td>1555.0</td>\n",
       "      <td>1074.0</td>\n",
       "      <td>11.9</td>\n",
       "      <td>...</td>\n",
       "      <td>2.6</td>\n",
       "      <td>166.0</td>\n",
       "      <td>11.9</td>\n",
       "      <td>NaN</td>\n",
       "      <td>NaN</td>\n",
       "      <td>NaN</td>\n",
       "      <td>2.266667</td>\n",
       "      <td>0.305505</td>\n",
       "      <td>133.333333</td>\n",
       "      <td>31.564748</td>\n",
       "    </tr>\n",
       "    <tr>\n",
       "      <th>2004-03-10 21:00:00</th>\n",
       "      <td>2.2</td>\n",
       "      <td>1376.0</td>\n",
       "      <td>9.2</td>\n",
       "      <td>948.0</td>\n",
       "      <td>172.0</td>\n",
       "      <td>1092.0</td>\n",
       "      <td>122.0</td>\n",
       "      <td>1584.0</td>\n",
       "      <td>1203.0</td>\n",
       "      <td>11.0</td>\n",
       "      <td>...</td>\n",
       "      <td>2.0</td>\n",
       "      <td>103.0</td>\n",
       "      <td>9.4</td>\n",
       "      <td>2.6</td>\n",
       "      <td>166.0</td>\n",
       "      <td>11.9</td>\n",
       "      <td>2.133333</td>\n",
       "      <td>0.115470</td>\n",
       "      <td>135.333333</td>\n",
       "      <td>34.703506</td>\n",
       "    </tr>\n",
       "    <tr>\n",
       "      <th>2004-03-10 22:00:00</th>\n",
       "      <td>1.6</td>\n",
       "      <td>1272.0</td>\n",
       "      <td>6.5</td>\n",
       "      <td>836.0</td>\n",
       "      <td>131.0</td>\n",
       "      <td>1205.0</td>\n",
       "      <td>116.0</td>\n",
       "      <td>1490.0</td>\n",
       "      <td>1110.0</td>\n",
       "      <td>11.2</td>\n",
       "      <td>...</td>\n",
       "      <td>2.2</td>\n",
       "      <td>131.0</td>\n",
       "      <td>9.0</td>\n",
       "      <td>2.0</td>\n",
       "      <td>103.0</td>\n",
       "      <td>9.4</td>\n",
       "      <td>2.000000</td>\n",
       "      <td>0.346410</td>\n",
       "      <td>144.666667</td>\n",
       "      <td>23.671361</td>\n",
       "    </tr>\n",
       "  </tbody>\n",
       "</table>\n",
       "<p>5 rows × 28 columns</p>\n",
       "</div>"
      ],
      "text/plain": [
       "                     CO(GT) PT08.S1(CO)  C6H6(GT) PT08.S2(NMHC)  NOx(GT)  \\\n",
       "Datetime                                                                   \n",
       "2004-03-10 18:00:00     2.6      1360.0      11.9        1046.0    166.0   \n",
       "2004-03-10 19:00:00     2.0      1292.0       9.4         955.0    103.0   \n",
       "2004-03-10 20:00:00     2.2      1402.0       9.0         939.0    131.0   \n",
       "2004-03-10 21:00:00     2.2      1376.0       9.2         948.0    172.0   \n",
       "2004-03-10 22:00:00     1.6      1272.0       6.5         836.0    131.0   \n",
       "\n",
       "                    PT08.S3(NOx) NO2(GT) PT08.S4(NO2) PT08.S5(O3)     T  ...  \\\n",
       "Datetime                                                                 ...   \n",
       "2004-03-10 18:00:00       1056.0   113.0       1692.0      1268.0  13.6  ...   \n",
       "2004-03-10 19:00:00       1174.0    92.0       1559.0       972.0  13.3  ...   \n",
       "2004-03-10 20:00:00       1140.0   114.0       1555.0      1074.0  11.9  ...   \n",
       "2004-03-10 21:00:00       1092.0   122.0       1584.0      1203.0  11.0  ...   \n",
       "2004-03-10 22:00:00       1205.0   116.0       1490.0      1110.0  11.2  ...   \n",
       "\n",
       "                    CO_lag_2 NOx_lag_2  C6H6_lag_2  CO_lag_3  NOx_lag_3  \\\n",
       "Datetime                                                                  \n",
       "2004-03-10 18:00:00      NaN       NaN         NaN       NaN        NaN   \n",
       "2004-03-10 19:00:00      NaN       NaN         NaN       NaN        NaN   \n",
       "2004-03-10 20:00:00      2.6     166.0        11.9       NaN        NaN   \n",
       "2004-03-10 21:00:00      2.0     103.0         9.4       2.6      166.0   \n",
       "2004-03-10 22:00:00      2.2     131.0         9.0       2.0      103.0   \n",
       "\n",
       "                     C6H6_lag_3  CO_roll_mean  CO_roll_std  NOx_roll_mean  \\\n",
       "Datetime                                                                    \n",
       "2004-03-10 18:00:00         NaN           NaN          NaN            NaN   \n",
       "2004-03-10 19:00:00         NaN           NaN          NaN            NaN   \n",
       "2004-03-10 20:00:00         NaN      2.266667     0.305505     133.333333   \n",
       "2004-03-10 21:00:00        11.9      2.133333     0.115470     135.333333   \n",
       "2004-03-10 22:00:00         9.4      2.000000     0.346410     144.666667   \n",
       "\n",
       "                     NOx_roll_std  \n",
       "Datetime                           \n",
       "2004-03-10 18:00:00           NaN  \n",
       "2004-03-10 19:00:00           NaN  \n",
       "2004-03-10 20:00:00     31.564748  \n",
       "2004-03-10 21:00:00     34.703506  \n",
       "2004-03-10 22:00:00     23.671361  \n",
       "\n",
       "[5 rows x 28 columns]"
      ]
     },
     "execution_count": 24,
     "metadata": {},
     "output_type": "execute_result"
    }
   ],
   "source": [
    "df.head()"
   ]
  },
  {
   "cell_type": "code",
   "execution_count": 26,
   "id": "26e3ff1f-60e2-499c-9978-09ab940fcdc4",
   "metadata": {},
   "outputs": [],
   "source": [
    "#df.index = pd.to_datetime(df.index)\n",
    "\n",
    "#print(\"Available years in dataset:\", df.index.year.unique())"
   ]
  },
  {
   "cell_type": "code",
   "execution_count": 28,
   "id": "1cba7335-0a86-42c2-a6a5-899dcd864e0c",
   "metadata": {},
   "outputs": [
    {
     "name": "stdout",
     "output_type": "stream",
     "text": [
      "(5526, 28)\n",
      "(2148, 28)\n"
     ]
    }
   ],
   "source": [
    "train_df = df[df.index.year == 2004.0]  # All 2004 data\n",
    "print(train_df.shape)\n",
    "test_df = df[df.index.year == 2005.0]   # All 2005 data\n",
    "print(test_df.shape)"
   ]
  },
  {
   "cell_type": "code",
   "execution_count": 30,
   "id": "0d132678-3812-4788-a062-0f90dc966da1",
   "metadata": {},
   "outputs": [],
   "source": [
    "#test_df.to_csv('AirQualityUCI_2025.csv')"
   ]
  },
  {
   "cell_type": "code",
   "execution_count": 32,
   "id": "cfc14614-8fc1-40dc-b83e-dba2f4537afa",
   "metadata": {},
   "outputs": [],
   "source": [
    "# --- Train/Test Split ---\n",
    "\n",
    "# Chronological split for time series data (no random shuffling)\n",
    "#train_size = int(0.8 * len(df))  # Use 80% of the data for training\n",
    "#train_df = df.iloc[:train_size]\n",
    "#test_df = df.iloc[train_size:]"
   ]
  },
  {
   "cell_type": "code",
   "execution_count": 34,
   "id": "3961f0f2-32e1-422e-aac9-f7a4ec0c7537",
   "metadata": {},
   "outputs": [
    {
     "name": "stdout",
     "output_type": "stream",
     "text": [
      "No overlapping indices between train and test sets.\n",
      "No overlapping rows between train and test sets.\n"
     ]
    }
   ],
   "source": [
    "# Check for common indices between train and test\n",
    "common_indices = train_df.index.intersection(test_df.index)\n",
    "\n",
    "if len(common_indices) > 0:\n",
    "    print(f\"There are {len(common_indices)} overlapping indices between train and test sets.\")\n",
    "    print(\"Overlapping indices:\", common_indices)\n",
    "else:\n",
    "    print(\"No overlapping indices between train and test sets.\")\n",
    "\n",
    "# Optional: Check for overlapping rows (if indices differ but data matches)\n",
    "common_rows = pd.merge(train_df, test_df, how='inner')\n",
    "\n",
    "if not common_rows.empty:\n",
    "    print(f\"There are {len(common_rows)} overlapping rows between train and test sets.\")\n",
    "else:\n",
    "    print(\"No overlapping rows between train and test sets.\")"
   ]
  },
  {
   "cell_type": "code",
   "execution_count": 36,
   "id": "9e71177c-1888-48e2-a8fc-946af68f8963",
   "metadata": {},
   "outputs": [],
   "source": [
    "# Define features and target variable\n",
    "features = ['Hour', 'Day', 'Month', \n",
    "            'CO_lag_1', 'CO_lag_2', 'CO_lag_3', \n",
    "            'NOx_lag_1', 'NOx_lag_2', 'NOx_lag_3',\n",
    "            'C6H6_lag_1', 'C6H6_lag_2', 'C6H6_lag_3',\n",
    "            'CO_roll_mean', 'CO_roll_std',\n",
    "            'NOx_roll_mean', 'NOx_roll_std']"
   ]
  },
  {
   "cell_type": "code",
   "execution_count": 38,
   "id": "f54dfdb2-7b41-4edd-82d4-4fb5efcc6da4",
   "metadata": {},
   "outputs": [],
   "source": [
    "target = 'CO(GT)'  # Target variable: CO concentration"
   ]
  },
  {
   "cell_type": "code",
   "execution_count": 40,
   "id": "6ef60a7a-ca3f-4fe9-8905-420f63ba90c0",
   "metadata": {},
   "outputs": [
    {
     "data": {
      "image/png": "[encoded data removed]",
      "text/plain": [
       "<Figure size 1000x800 with 2 Axes>"
      ]
     },
     "metadata": {},
     "output_type": "display_data"
    }
   ],
   "source": [
    "correlation_matrix = df[[target] + features].corr()\n",
    "\n",
    "# Extract correlations of the target variable with features\n",
    "target_correlations = correlation_matrix[target].drop(target)\n",
    "\n",
    "# --- Visualization ---\n",
    "\n",
    "plt.figure(figsize=(10, 8))\n",
    "sns.heatmap(target_correlations.to_frame(), annot=True, cmap='coolwarm', fmt='.2f')\n",
    "plt.title(f\"Correlation Between {target} and Features\")\n",
    "plt.xlabel(\"Features\")\n",
    "plt.ylabel(\"Target\")\n",
    "plt.show()"
   ]
  },
  {
   "cell_type": "code",
   "execution_count": null,
   "id": "9708c49e-c49f-444a-8da0-c8b30dd609a3",
   "metadata": {},
   "outputs": [],
   "source": []
  },
  {
   "cell_type": "code",
   "execution_count": 43,
   "id": "8b22a7cf-db3b-43be-b243-a887060ab9d5",
   "metadata": {},
   "outputs": [],
   "source": [
    "X_train, y_train = train_df[features], train_df[target]\n",
    "X_test, y_test = test_df[features], test_df[target]"
   ]
  },
  {
   "cell_type": "code",
   "execution_count": 45,
   "id": "38142eab-6bdd-446a-923c-a33a126f3e36",
   "metadata": {},
   "outputs": [
    {
     "name": "stdout",
     "output_type": "stream",
     "text": [
      "No overlapping indices between train and test sets.\n",
      "No overlapping rows between train and test sets.\n"
     ]
    }
   ],
   "source": [
    "# Check for common indices between train and test\n",
    "common_indices = X_train.index.intersection(X_test.index)\n",
    "\n",
    "if len(common_indices) > 0:\n",
    "    print(f\"There are {len(common_indices)} overlapping indices between train and test sets.\")\n",
    "    print(\"Overlapping indices:\", common_indices)\n",
    "else:\n",
    "    print(\"No overlapping indices between train and test sets.\")\n",
    "\n",
    "# Optional: Check for overlapping rows (if indices differ but data matches)\n",
    "common_rows = pd.merge(X_train, X_test, how='inner')\n",
    "\n",
    "if not common_rows.empty:\n",
    "    print(f\"There are {len(common_rows)} overlapping rows between train and test sets.\")\n",
    "else:\n",
    "    print(\"No overlapping rows between train and test sets.\")"
   ]
  },
  {
   "cell_type": "code",
   "execution_count": 48,
   "id": "7ba33dd1-a09f-44ca-b60a-b5c700abe9fa",
   "metadata": {},
   "outputs": [
    {
     "name": "stdout",
     "output_type": "stream",
     "text": [
      "Collecting xgboost\n",
      "  Downloading xgboost-3.0.0-py3-none-win_amd64.whl.metadata (2.1 kB)\n",
      "Requirement already satisfied: numpy in c:\\users\\hp\\anaconda3\\lib\\site-packages (from xgboost) (1.26.4)\n",
      "Requirement already satisfied: scipy in c:\\users\\hp\\anaconda3\\lib\\site-packages (from xgboost) (1.13.1)\n",
      "Downloading xgboost-3.0.0-py3-none-win_amd64.whl (150.0 MB)\n",
      "   ---------------------------------------- 0.0/150.0 MB ? eta -:--:--\n",
      "   - -------------------------------------- 5.2/150.0 MB 29.0 MB/s eta 0:00:05\n",
      "   --- ------------------------------------ 13.4/150.0 MB 33.6 MB/s eta 0:00:05\n",
      "   ----- ---------------------------------- 21.5/150.0 MB 35.7 MB/s eta 0:00:04\n",
      "   ------- -------------------------------- 29.9/150.0 MB 37.2 MB/s eta 0:00:04\n",
      "   --------- ------------------------------ 36.7/150.0 MB 35.9 MB/s eta 0:00:04\n",
      "   ----------- ---------------------------- 44.6/150.0 MB 36.3 MB/s eta 0:00:03\n",
      "   -------------- ------------------------- 53.2/150.0 MB 36.8 MB/s eta 0:00:03\n",
      "   ---------------- ----------------------- 62.1/150.0 MB 37.4 MB/s eta 0:00:03\n",
      "   ------------------ --------------------- 71.0/150.0 MB 38.1 MB/s eta 0:00:03\n",
      "   --------------------- ------------------ 79.7/150.0 MB 38.5 MB/s eta 0:00:02\n",
      "   ----------------------- ---------------- 88.1/150.0 MB 38.8 MB/s eta 0:00:02\n",
      "   ------------------------- -------------- 97.0/150.0 MB 38.9 MB/s eta 0:00:02\n",
      "   --------------------------- ----------- 104.6/150.0 MB 38.8 MB/s eta 0:00:02\n",
      "   ----------------------------- --------- 112.5/150.0 MB 38.8 MB/s eta 0:00:01\n",
      "   ------------------------------- ------- 121.6/150.0 MB 39.0 MB/s eta 0:00:01\n",
      "   --------------------------------- ----- 130.3/150.0 MB 39.1 MB/s eta 0:00:01\n",
      "   ------------------------------------ -- 139.2/150.0 MB 39.3 MB/s eta 0:00:01\n",
      "   --------------------------------------  148.6/150.0 MB 39.6 MB/s eta 0:00:01\n",
      "   --------------------------------------  149.9/150.0 MB 39.8 MB/s eta 0:00:01\n",
      "   --------------------------------------- 150.0/150.0 MB 37.3 MB/s eta 0:00:00\n",
      "Installing collected packages: xgboost\n",
      "Successfully installed xgboost-3.0.0\n",
      "Note: you may need to restart the kernel to use updated packages.\n"
     ]
    }
   ],
   "source": [
    "#pip install xgboost"
   ]
  },
  {
   "cell_type": "code",
   "execution_count": 47,
   "id": "9e5af261-971f-4f6a-afec-05c90c0b461e",
   "metadata": {},
   "outputs": [
    {
     "name": "stdout",
     "output_type": "stream",
     "text": [
      "Mean Absolute Error (MAE): 0.11\n",
      "Root Mean Squared Error (RMSE): 0.16\n"
     ]
    }
   ],
   "source": [
    "# Initialize XGBoost regressor\n",
    "xgb_model = XGBRegressor(n_estimators=100, max_depth=5, learning_rate=0.1)\n",
    "\n",
    "# Fit the model on training data\n",
    "xgb_model.fit(X_train, y_train)\n",
    "\n",
    "# Make predictions on test set\n",
    "y_pred = xgb_model.predict(X_test)\n",
    "\n",
    "# Evaluate model performance\n",
    "mae = mean_absolute_error(y_test, y_pred)\n",
    "rmse = sqrt(mean_squared_error(y_test, y_pred))\n",
    "\n",
    "print(f\"Mean Absolute Error (MAE): {mae:.2f}\")\n",
    "print(f\"Root Mean Squared Error (RMSE): {rmse:.2f}\")"
   ]
  },
  {
   "cell_type": "code",
   "execution_count": 49,
   "id": "b0739585-8c19-4f26-84c4-51df4b9d7cf6",
   "metadata": {},
   "outputs": [
    {
     "name": "stdout",
     "output_type": "stream",
     "text": [
      "Model saved to xgb_model.pkl\n"
     ]
    }
   ],
   "source": [
    "# --- Save the model to a pickle file ---\n",
    "model_filename = \"xgb_model.pkl\"\n",
    "with open(model_filename, \"wb\") as file:\n",
    "    pickle.dump(xgb_model, file)\n",
    "\n",
    "print(f\"Model saved to {model_filename}\")"
   ]
  },
  {
   "cell_type": "code",
   "execution_count": 51,
   "id": "96d7d179-78a9-4ab1-b447-96d626e6fd27",
   "metadata": {},
   "outputs": [
    {
     "name": "stdout",
     "output_type": "stream",
     "text": [
      "Model and features saved to xgb_model.pkl\n"
     ]
    }
   ],
   "source": [
    "# Save model and feature list to a pickle file\n",
    "model_metadata = {\n",
    "    \"model\": xgb_model,\n",
    "    \"features\": features\n",
    "}\n",
    "with open(\"xgb_model.pkl\", \"wb\") as file:\n",
    "    pickle.dump(model_metadata, file)\n",
    "\n",
    "print(\"Model and features saved to xgb_model.pkl\")"
   ]
  },
  {
   "cell_type": "code",
   "execution_count": 53,
   "id": "eb04fa67-e1ac-4b3a-87fb-cdd7e697023c",
   "metadata": {},
   "outputs": [
    {
     "name": "stdout",
     "output_type": "stream",
     "text": [
      "Mean Absolute Error (MAE): 0.11\n",
      "Root Mean Squared Error (RMSE): 0.16\n"
     ]
    }
   ],
   "source": [
    "# --- Load the model and feature list ---\n",
    "with open(\"xgb_model.pkl\", \"rb\") as file:\n",
    "    model_metadata = pickle.load(file)\n",
    "loaded_model = model_metadata[\"model\"]\n",
    "training_features = model_metadata[\"features\"]\n",
    "\n",
    "# --- Use the loaded model to score on new test data ---\n",
    "# Ensure test data aligns with training features\n",
    "X_test_aligned, _ = X_test.align(pd.DataFrame(columns=training_features), axis=1, fill_value=0)\n",
    "\n",
    "# Make predictions on test set\n",
    "y_pred_new_test = loaded_model.predict(X_test_aligned)\n",
    "\n",
    "# Evaluate model performance\n",
    "mae = mean_absolute_error(y_test, y_pred_new_test)\n",
    "rmse = sqrt(mean_squared_error(y_test, y_pred_new_test))\n",
    "\n",
    "print(f\"Mean Absolute Error (MAE): {mae:.2f}\")\n",
    "print(f\"Root Mean Squared Error (RMSE): {rmse:.2f}\")\n"
   ]
  },
  {
   "cell_type": "code",
   "execution_count": null,
   "id": "d2e12486-be04-4464-8cde-2e1d116cf684",
   "metadata": {},
   "outputs": [],
   "source": []
  },
  {
   "cell_type": "markdown",
   "id": "d1bb2e0d-9af4-42a8-b6ab-e2d40f196e32",
   "metadata": {},
   "source": [
    "Bonus question"
   ]
  },
  {
   "cell_type": "code",
   "execution_count": 55,
   "id": "e9c83e41-3170-4b48-adfc-6f84237465e2",
   "metadata": {
    "scrolled": true
   },
   "outputs": [
    {
     "name": "stdout",
     "output_type": "stream",
     "text": [
      "ADF Statistic: -9.556031147206323\n",
      "p-value: 2.4975917554606647e-16\n",
      "Critical Values: {'1%': -3.4312065535348215, '5%': -2.8619185328129757, '10%': -2.5669714885183432}\n",
      "The series is stationary.\n"
     ]
    },
    {
     "name": "stderr",
     "output_type": "stream",
     "text": [
      "C:\\Users\\HP\\anaconda3\\Lib\\site-packages\\statsmodels\\tsa\\base\\tsa_model.py:473: ValueWarning: A date index has been provided, but it has no associated frequency information and so will be ignored when e.g. forecasting.\n",
      "  self._init_dates(dates, freq)\n",
      "C:\\Users\\HP\\anaconda3\\Lib\\site-packages\\statsmodels\\tsa\\base\\tsa_model.py:473: ValueWarning: A date index has been provided, but it has no associated frequency information and so will be ignored when e.g. forecasting.\n",
      "  self._init_dates(dates, freq)\n",
      "C:\\Users\\HP\\anaconda3\\Lib\\site-packages\\statsmodels\\tsa\\base\\tsa_model.py:473: ValueWarning: A date index has been provided, but it has no associated frequency information and so will be ignored when e.g. forecasting.\n",
      "  self._init_dates(dates, freq)\n"
     ]
    },
    {
     "name": "stdout",
     "output_type": "stream",
     "text": [
      "                               SARIMAX Results                                \n",
      "==============================================================================\n",
      "Dep. Variable:                 CO(GT)   No. Observations:                 6139\n",
      "Model:                 ARIMA(5, 1, 0)   Log Likelihood               -7353.292\n",
      "Date:                Tue, 08 Apr 2025   AIC                          14718.583\n",
      "Time:                        19:29:32   BIC                          14758.917\n",
      "Sample:                             0   HQIC                         14732.574\n",
      "                               - 6139                                         \n",
      "Covariance Type:                  opg                                         \n",
      "==============================================================================\n",
      "                 coef    std err          z      P>|z|      [0.025      0.975]\n",
      "------------------------------------------------------------------------------\n",
      "ar.L1          0.1829      0.009     21.480      0.000       0.166       0.200\n",
      "ar.L2         -0.1681      0.010    -17.303      0.000      -0.187      -0.149\n",
      "ar.L3         -0.1090      0.011     -9.492      0.000      -0.132      -0.087\n",
      "ar.L4         -0.0951      0.012     -7.991      0.000      -0.118      -0.072\n",
      "ar.L5         -0.0557      0.013     -4.272      0.000      -0.081      -0.030\n",
      "sigma2         0.6428      0.007     95.833      0.000       0.630       0.656\n",
      "===================================================================================\n",
      "Ljung-Box (L1) (Q):                   0.23   Jarque-Bera (JB):              5201.30\n",
      "Prob(Q):                              0.63   Prob(JB):                         0.00\n",
      "Heteroskedasticity (H):               1.20   Skew:                             0.35\n",
      "Prob(H) (two-sided):                  0.00   Kurtosis:                         7.46\n",
      "===================================================================================\n",
      "\n",
      "Warnings:\n",
      "[1] Covariance matrix calculated using the outer product of gradients (complex-step).\n",
      "Mean Absolute Error (MAE): 1216.73\n",
      "Root Mean Squared Error (RMSE): 1400.11\n"
     ]
    },
    {
     "name": "stderr",
     "output_type": "stream",
     "text": [
      "C:\\Users\\HP\\anaconda3\\Lib\\site-packages\\statsmodels\\tsa\\base\\tsa_model.py:836: ValueWarning: No supported index is available. Prediction results will be given with an integer index beginning at `start`.\n",
      "  return get_prediction_index(\n",
      "C:\\Users\\HP\\anaconda3\\Lib\\site-packages\\statsmodels\\tsa\\base\\tsa_model.py:836: FutureWarning: No supported index is available. In the next version, calling this method in a model without a supported index will result in an exception.\n",
      "  return get_prediction_index(\n"
     ]
    },
    {
     "data": {
      "image/png": "[encoded data removed]",
      "text/plain": [
       "<Figure size 1200x600 with 1 Axes>"
      ]
     },
     "metadata": {},
     "output_type": "display_data"
    }
   ],
   "source": [
    "from statsmodels.tsa.stattools import adfuller\n",
    "from statsmodels.tsa.arima.model import ARIMA\n",
    "\n",
    "# Select the target variable (e.g., 'CO(GT)')\n",
    "series = df['CO(GT)'].dropna()\n",
    "\n",
    "# --- Check for Stationarity ---\n",
    "def check_stationarity(series):\n",
    "    result = adfuller(series)\n",
    "    print(\"ADF Statistic:\", result[0])\n",
    "    print(\"p-value:\", result[1])\n",
    "    print(\"Critical Values:\", result[4])\n",
    "    if result[1] <= 0.05:\n",
    "        print(\"The series is stationary.\")\n",
    "    else:\n",
    "        print(\"The series is not stationary.\")\n",
    "\n",
    "check_stationarity(series)\n",
    "\n",
    "# If the series is not stationary, apply differencing\n",
    "if adfuller(series)[1] > 0.05:\n",
    "    series_diff = series.diff().dropna()\n",
    "    check_stationarity(series_diff)\n",
    "else:\n",
    "    series_diff = series\n",
    "\n",
    "\n",
    "# --- Split Data into Train/Test Sets ---\n",
    "train_size = int(0.8 * len(series_diff))  # Use 80% of the data for training\n",
    "train, test = series_diff.iloc[:train_size], series_diff.iloc[train_size:]\n",
    "\n",
    "# --- Determine ARIMA Parameters (p, d, q) ---\n",
    "# Use ACF and PACF plots to determine p and q (manual tuning or use auto-arima)\n",
    "\n",
    "# --- Fit ARIMA Model ---\n",
    "model_order = (5, 1, 0)  # Replace with your chosen parameters (p, d, q)\n",
    "model = ARIMA(train, order=model_order)\n",
    "model_fit = model.fit()\n",
    "\n",
    "print(model_fit.summary())\n",
    "\n",
    "# --- Forecast on Test Set ---\n",
    "forecast = model_fit.forecast(steps=len(test))\n",
    "forecast_original_scale = forecast.cumsum() + series.iloc[train_size - 1]  # Reverse differencing\n",
    "\n",
    "# --- Evaluate Model Performance ---\n",
    "mae = mean_absolute_error(test.cumsum() + series.iloc[train_size - 1], forecast_original_scale)\n",
    "rmse = sqrt(mean_squared_error(test.cumsum() + series.iloc[train_size - 1], forecast_original_scale))\n",
    "\n",
    "print(f\"Mean Absolute Error (MAE): {mae:.2f}\")\n",
    "print(f\"Root Mean Squared Error (RMSE): {rmse:.2f}\")\n",
    "\n",
    "# --- Plot Actual vs Predicted Values ---\n",
    "plt.figure(figsize=(12, 6))\n",
    "plt.plot(series.index[-len(test):], test.cumsum() + series.iloc[train_size - 1], label=\"Actual\", color=\"blue\")\n",
    "plt.plot(series.index[-len(test):], forecast_original_scale, label=\"Forecast\", color=\"orange\")\n",
    "plt.title(\"ARIMA Model: Actual vs Forecast\")\n",
    "plt.xlabel(\"Datetime\")\n",
    "plt.ylabel(\"CO(GT)\")\n",
    "plt.legend()\n",
    "plt.grid(True)\n",
    "plt.show()"
   ]
  },
  {
   "cell_type": "markdown",
   "id": "62264766-aee5-4dcd-bc8c-e9a825d82b7a",
   "metadata": {},
   "source": [
    "Reference\n",
    "\n",
    "All code was generated using AI\n",
    "\n",
    "Chat history link - https://www.perplexity.ai/search/what-error-in-this-line-mean-b-tLbCAenpTJS59ZRnuLr5eQ"
   ]
  }
 ],
 "metadata": {
  "kernelspec": {
   "display_name": "Python [conda env:base] *",
   "language": "python",
   "name": "conda-base-py"
  },
  "language_info": {
   "codemirror_mode": {
    "name": "ipython",
    "version": 3
   },
   "file_extension": ".py",
   "mimetype": "text/x-python",
   "name": "python",
   "nbconvert_exporter": "python",
   "pygments_lexer": "ipython3",
   "version": "3.12.7"
  }
 },
 "nbformat": 4,
 "nbformat_minor": 5
}
